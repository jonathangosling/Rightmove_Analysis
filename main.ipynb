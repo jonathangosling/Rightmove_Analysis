{
 "cells": [
  {
   "cell_type": "code",
   "execution_count": 207,
   "metadata": {},
   "outputs": [],
   "source": [
    "from selenium import webdriver\n",
    "from selenium.webdriver.chrome.options import Options\n",
    "from selenium.webdriver.common.by import By\n",
    "from selenium.webdriver.support.ui import WebDriverWait\n",
    "from selenium.webdriver.support import expected_conditions as EC  \n",
    "import pandas as pd\n",
    "from geopy.geocoders import Nominatim\n",
    "import time"
   ]
  },
  {
   "cell_type": "code",
   "execution_count": 208,
   "metadata": {},
   "outputs": [],
   "source": [
    "def accept_cookies_if_asked(driver):\n",
    "    try:\n",
    "        driver.find_element(By.ID, \"onetrust-accept-btn-handler\").click()\n",
    "    except:\n",
    "        pass"
   ]
  },
  {
   "cell_type": "code",
   "execution_count": 209,
   "metadata": {},
   "outputs": [],
   "source": [
    "class Data:\n",
    "    def __init__(self):\n",
    "        self.ids = []\n",
    "        self.prices = []\n",
    "        self.address = []\n",
    "\n",
    "    def add_page_data(self, driver):\n",
    "        properties = driver.find_elements(By.CLASS_NAME, \"l-searchResult\")\n",
    "        for property in properties:\n",
    "            self.ids.append(property.find_element(By.CLASS_NAME, \"propertyCard-anchor\").get_attribute('id'))\n",
    "            self.prices.append(property.find_element(By.CLASS_NAME, \"propertyCard-priceValue\").text)\n",
    "            self.address.append(property.find_element(By.CLASS_NAME, \"propertyCard-address\").get_attribute('title'))\n",
    "\n",
    "    def transform_prices(self):\n",
    "        self.prices = [int(price[1:-4].replace(',','')) for price in self.prices]\n",
    "\n",
    "    def make_df(self):\n",
    "        return pd.DataFrame({'id': self.ids, 'price': self.prices, 'address': self.address})\n"
   ]
  },
  {
   "cell_type": "code",
   "execution_count": 138,
   "metadata": {},
   "outputs": [],
   "source": [
    "def get_page_data(driver, ids, prices, address):\n",
    "    properties = driver.find_elements(By.CLASS_NAME, \"l-searchResult\")\n",
    "    for property in properties:\n",
    "        ids.append(property.find_element(By.CLASS_NAME, \"propertyCard-anchor\").get_attribute('id'))\n",
    "        prices.append(property.find_element(By.CLASS_NAME, \"propertyCard-priceValue\").text)\n",
    "        address.append(property.find_element(By.CLASS_NAME, \"propertyCard-address\").get_attribute('title'))\n",
    "\n",
    "    return pd.DataFrame({'id': ids, 'price': prices, 'address': address})\n"
   ]
  },
  {
   "cell_type": "code",
   "execution_count": 210,
   "metadata": {},
   "outputs": [],
   "source": [
    "\n",
    "url = r'''https://www.rightmove.co.uk/property-to-rent/find.html?locationIdentifier=REGION%5E92829&maxBedrooms=2&minBedrooms=2&propertyTypes=&includeLetAgreed=false&mustHave=&dontShow=&furnishTypes=&keywords='''\n",
    "options = Options()\n",
    "options.add_argument('--headless')\n",
    "driver = webdriver.Chrome()\n",
    "driver.get(url)\n",
    "\n",
    "time.sleep(2)\n",
    "accept_cookies_if_asked(driver)\n",
    "\n",
    "data = Data()\n",
    "data.add_page_data(driver)\n",
    "pages_scanned = 1\n",
    "\n",
    "button = driver.find_element(By.XPATH, \"//button[@title='Next page']\")\n",
    "\n",
    "while button.is_enabled():\n",
    "    WebDriverWait(driver, 20).until(EC.element_to_be_clickable(button))\n",
    "    button.click()\n",
    "    accept_cookies_if_asked(driver)\n",
    "    WebDriverWait(driver, 20).until(EC.presence_of_element_located((By.CLASS_NAME, 'propertyCard-anchor')))\n",
    "    data.add_page_data(driver)\n",
    "    pages_scanned += 1\n",
    "    button = driver.find_element(By.XPATH, \"//button[@title='Next page']\")\n",
    "\n",
    "driver.close()\n"
   ]
  },
  {
   "cell_type": "code",
   "execution_count": 211,
   "metadata": {},
   "outputs": [
    {
     "data": {
      "text/plain": [
       "42"
      ]
     },
     "execution_count": 211,
     "metadata": {},
     "output_type": "execute_result"
    }
   ],
   "source": [
    "pages_scanned"
   ]
  },
  {
   "cell_type": "code",
   "execution_count": 214,
   "metadata": {},
   "outputs": [],
   "source": [
    "data.transform_prices()"
   ]
  },
  {
   "cell_type": "code",
   "execution_count": 216,
   "metadata": {},
   "outputs": [],
   "source": [
    "df = data.make_df()"
   ]
  },
  {
   "cell_type": "code",
   "execution_count": 217,
   "metadata": {},
   "outputs": [
    {
     "data": {
      "text/html": [
       "<div>\n",
       "<style scoped>\n",
       "    .dataframe tbody tr th:only-of-type {\n",
       "        vertical-align: middle;\n",
       "    }\n",
       "\n",
       "    .dataframe tbody tr th {\n",
       "        vertical-align: top;\n",
       "    }\n",
       "\n",
       "    .dataframe thead th {\n",
       "        text-align: right;\n",
       "    }\n",
       "</style>\n",
       "<table border=\"1\" class=\"dataframe\">\n",
       "  <thead>\n",
       "    <tr style=\"text-align: right;\">\n",
       "      <th></th>\n",
       "      <th>id</th>\n",
       "      <th>price</th>\n",
       "      <th>address</th>\n",
       "    </tr>\n",
       "  </thead>\n",
       "  <tbody>\n",
       "    <tr>\n",
       "      <th>0</th>\n",
       "      <td>prop123249455</td>\n",
       "      <td>3380</td>\n",
       "      <td>Wandsworth Road, London, SW8 2FW, UK</td>\n",
       "    </tr>\n",
       "    <tr>\n",
       "      <th>1</th>\n",
       "      <td>prop137578016</td>\n",
       "      <td>1850</td>\n",
       "      <td>Carmichael Court, Barnes, SW13</td>\n",
       "    </tr>\n",
       "    <tr>\n",
       "      <th>2</th>\n",
       "      <td>prop137206811</td>\n",
       "      <td>2250</td>\n",
       "      <td>West Elms Studios, Stewarts Road Battersea SW8</td>\n",
       "    </tr>\n",
       "    <tr>\n",
       "      <th>3</th>\n",
       "      <td>prop137047472</td>\n",
       "      <td>2275</td>\n",
       "      <td>St Lukes Court, Battersea, London</td>\n",
       "    </tr>\n",
       "    <tr>\n",
       "      <th>4</th>\n",
       "      <td>prop111890363</td>\n",
       "      <td>2097</td>\n",
       "      <td>Almanac House, 180 East Hill, Wandsworth, Lond...</td>\n",
       "    </tr>\n",
       "    <tr>\n",
       "      <th>...</th>\n",
       "      <td>...</td>\n",
       "      <td>...</td>\n",
       "      <td>...</td>\n",
       "    </tr>\n",
       "    <tr>\n",
       "      <th>1045</th>\n",
       "      <td>prop135954134</td>\n",
       "      <td>4983</td>\n",
       "      <td>Carnation Way, Thames City, SW8</td>\n",
       "    </tr>\n",
       "    <tr>\n",
       "      <th>1046</th>\n",
       "      <td>prop134914124</td>\n",
       "      <td>4983</td>\n",
       "      <td>Carnation Way,, Thames City, SW8</td>\n",
       "    </tr>\n",
       "    <tr>\n",
       "      <th>1047</th>\n",
       "      <td>prop135617696</td>\n",
       "      <td>5200</td>\n",
       "      <td>Carnation Way, Thames City, SW8</td>\n",
       "    </tr>\n",
       "    <tr>\n",
       "      <th>1048</th>\n",
       "      <td>prop135948131</td>\n",
       "      <td>3250</td>\n",
       "      <td>Lombard Road, Battersea, London, SW11</td>\n",
       "    </tr>\n",
       "    <tr>\n",
       "      <th>1049</th>\n",
       "      <td>prop135948113</td>\n",
       "      <td>2384</td>\n",
       "      <td>Nightingale Lane, Nightingale Triangle, London...</td>\n",
       "    </tr>\n",
       "  </tbody>\n",
       "</table>\n",
       "<p>1050 rows × 3 columns</p>\n",
       "</div>"
      ],
      "text/plain": [
       "                 id  price                                            address\n",
       "0     prop123249455   3380               Wandsworth Road, London, SW8 2FW, UK\n",
       "1     prop137578016   1850                     Carmichael Court, Barnes, SW13\n",
       "2     prop137206811   2250     West Elms Studios, Stewarts Road Battersea SW8\n",
       "3     prop137047472   2275                  St Lukes Court, Battersea, London\n",
       "4     prop111890363   2097  Almanac House, 180 East Hill, Wandsworth, Lond...\n",
       "...             ...    ...                                                ...\n",
       "1045  prop135954134   4983                    Carnation Way, Thames City, SW8\n",
       "1046  prop134914124   4983                   Carnation Way,, Thames City, SW8\n",
       "1047  prop135617696   5200                    Carnation Way, Thames City, SW8\n",
       "1048  prop135948131   3250              Lombard Road, Battersea, London, SW11\n",
       "1049  prop135948113   2384  Nightingale Lane, Nightingale Triangle, London...\n",
       "\n",
       "[1050 rows x 3 columns]"
      ]
     },
     "execution_count": 217,
     "metadata": {},
     "output_type": "execute_result"
    }
   ],
   "source": [
    "df"
   ]
  },
  {
   "cell_type": "code",
   "execution_count": 181,
   "metadata": {},
   "outputs": [],
   "source": [
    "df = pd.DataFrame({'id': data.ids, 'price': data.prices, 'address': data.address})"
   ]
  },
  {
   "cell_type": "code",
   "execution_count": 182,
   "metadata": {},
   "outputs": [],
   "source": [
    "df['price'] = [int(price[1:-4].replace(',','')) for price in df.price]"
   ]
  },
  {
   "cell_type": "code",
   "execution_count": 183,
   "metadata": {},
   "outputs": [
    {
     "data": {
      "text/html": [
       "<div>\n",
       "<style scoped>\n",
       "    .dataframe tbody tr th:only-of-type {\n",
       "        vertical-align: middle;\n",
       "    }\n",
       "\n",
       "    .dataframe tbody tr th {\n",
       "        vertical-align: top;\n",
       "    }\n",
       "\n",
       "    .dataframe thead th {\n",
       "        text-align: right;\n",
       "    }\n",
       "</style>\n",
       "<table border=\"1\" class=\"dataframe\">\n",
       "  <thead>\n",
       "    <tr style=\"text-align: right;\">\n",
       "      <th></th>\n",
       "      <th>id</th>\n",
       "      <th>price</th>\n",
       "      <th>address</th>\n",
       "    </tr>\n",
       "  </thead>\n",
       "  <tbody>\n",
       "    <tr>\n",
       "      <th>1001</th>\n",
       "      <td>prop136086893</td>\n",
       "      <td>1000</td>\n",
       "      <td>Gilbert Close, Morden Road, London, SW19</td>\n",
       "    </tr>\n",
       "    <tr>\n",
       "      <th>42</th>\n",
       "      <td>prop137528039</td>\n",
       "      <td>1500</td>\n",
       "      <td>Flat 3, ArragonBishops Park RoadNorburyLondon</td>\n",
       "    </tr>\n",
       "    <tr>\n",
       "      <th>49</th>\n",
       "      <td>prop137525111</td>\n",
       "      <td>1534</td>\n",
       "      <td>Windsor Avenue, London, SW19</td>\n",
       "    </tr>\n",
       "    <tr>\n",
       "      <th>716</th>\n",
       "      <td>prop136924028</td>\n",
       "      <td>1550</td>\n",
       "      <td>Cotton Close, Mitcham, Surrey, CR4</td>\n",
       "    </tr>\n",
       "    <tr>\n",
       "      <th>710</th>\n",
       "      <td>prop136936121</td>\n",
       "      <td>1600</td>\n",
       "      <td>Imperial Gardens, Mitcham, Surrey, CR4</td>\n",
       "    </tr>\n",
       "    <tr>\n",
       "      <th>...</th>\n",
       "      <td>...</td>\n",
       "      <td>...</td>\n",
       "      <td>...</td>\n",
       "    </tr>\n",
       "    <tr>\n",
       "      <th>5</th>\n",
       "      <td>prop137518448</td>\n",
       "      <td>7150</td>\n",
       "      <td>Centurion Building, Chelsea Bridge Wharf, London</td>\n",
       "    </tr>\n",
       "    <tr>\n",
       "      <th>969</th>\n",
       "      <td>prop135053315</td>\n",
       "      <td>7583</td>\n",
       "      <td>The Tower, 1 St George Wharf, Vauxhall</td>\n",
       "    </tr>\n",
       "    <tr>\n",
       "      <th>920</th>\n",
       "      <td>prop136384520</td>\n",
       "      <td>9000</td>\n",
       "      <td>Anhalt Road, Battersea</td>\n",
       "    </tr>\n",
       "    <tr>\n",
       "      <th>1017</th>\n",
       "      <td>prop134006660</td>\n",
       "      <td>9000</td>\n",
       "      <td>Anhalt Road, Battersea</td>\n",
       "    </tr>\n",
       "    <tr>\n",
       "      <th>984</th>\n",
       "      <td>prop132455291</td>\n",
       "      <td>17333</td>\n",
       "      <td>Oakley House, Electric Boulevard, Battersea Po...</td>\n",
       "    </tr>\n",
       "  </tbody>\n",
       "</table>\n",
       "<p>1050 rows × 3 columns</p>\n",
       "</div>"
      ],
      "text/plain": [
       "                 id  price                                            address\n",
       "1001  prop136086893   1000           Gilbert Close, Morden Road, London, SW19\n",
       "42    prop137528039   1500      Flat 3, ArragonBishops Park RoadNorburyLondon\n",
       "49    prop137525111   1534                       Windsor Avenue, London, SW19\n",
       "716   prop136924028   1550                 Cotton Close, Mitcham, Surrey, CR4\n",
       "710   prop136936121   1600             Imperial Gardens, Mitcham, Surrey, CR4\n",
       "...             ...    ...                                                ...\n",
       "5     prop137518448   7150   Centurion Building, Chelsea Bridge Wharf, London\n",
       "969   prop135053315   7583             The Tower, 1 St George Wharf, Vauxhall\n",
       "920   prop136384520   9000                             Anhalt Road, Battersea\n",
       "1017  prop134006660   9000                             Anhalt Road, Battersea\n",
       "984   prop132455291  17333  Oakley House, Electric Boulevard, Battersea Po...\n",
       "\n",
       "[1050 rows x 3 columns]"
      ]
     },
     "execution_count": 183,
     "metadata": {},
     "output_type": "execute_result"
    }
   ],
   "source": [
    "df.sort_values('price')"
   ]
  }
 ],
 "metadata": {
  "kernelspec": {
   "display_name": "Python 3",
   "language": "python",
   "name": "python3"
  },
  "language_info": {
   "codemirror_mode": {
    "name": "ipython",
    "version": 3
   },
   "file_extension": ".py",
   "mimetype": "text/x-python",
   "name": "python",
   "nbconvert_exporter": "python",
   "pygments_lexer": "ipython3",
   "version": "3.11.0"
  },
  "orig_nbformat": 4
 },
 "nbformat": 4,
 "nbformat_minor": 2
}

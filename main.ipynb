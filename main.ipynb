{
 "cells": [
  {
   "cell_type": "code",
   "execution_count": 1,
   "metadata": {},
   "outputs": [],
   "source": [
    "from selenium import webdriver\n",
    "from selenium.webdriver.chrome.options import Options\n",
    "from selenium.webdriver.common.by import By\n",
    "from selenium.webdriver.support.ui import WebDriverWait\n",
    "from selenium.webdriver.support import expected_conditions as EC  \n",
    "import pandas as pd\n",
    "import time\n",
    "import requests\n",
    "import credentials\n",
    "from datetime import date"
   ]
  },
  {
   "cell_type": "code",
   "execution_count": 2,
   "metadata": {},
   "outputs": [],
   "source": [
    "def accept_cookies_if_asked(driver):\n",
    "    try:\n",
    "        driver.find_element(By.ID, \"onetrust-accept-btn-handler\").click()\n",
    "    except:\n",
    "        pass"
   ]
  },
  {
   "cell_type": "code",
   "execution_count": 3,
   "metadata": {},
   "outputs": [],
   "source": [
    "class Data:\n",
    "    def __init__(self):\n",
    "        self.ids = []\n",
    "        self.prices = []\n",
    "        self.address = []\n",
    "        self.postcodes = []\n",
    "        self.latitudes = []\n",
    "        self.longitudes = []\n",
    "\n",
    "    def add_page_data(self, driver):\n",
    "        properties = driver.find_elements(By.CLASS_NAME, \"l-searchResult\")\n",
    "        for property in properties:\n",
    "            self.ids.append(property.find_element(By.CLASS_NAME, \"propertyCard-anchor\").get_attribute('id'))\n",
    "            self.prices.append(property.find_element(By.CLASS_NAME, \"propertyCard-priceValue\").text)\n",
    "            self.address.append(property.find_element(By.CLASS_NAME, \"propertyCard-address\").get_attribute('title'))\n",
    "\n",
    "    def transform_location_data(self):\n",
    "        self.postcodes = []\n",
    "        self.latitudes = []\n",
    "        self.longitudes = []\n",
    "        for addy in self.address:\n",
    "            addy = addy + \", London, UK\"\n",
    "            addy = addy.replace(' ', '%20')\n",
    "            r = requests.get(rf'https://dev.virtualearth.net/REST/v1/Locations?q={addy}&key={credentials.bingmaps_api_key}')\n",
    "            if r.status_code >= 300:\n",
    "                print(r.status_code)\n",
    "                raise Exception(r.reason)\n",
    "            try:\n",
    "                self.postcodes.append(r.json()['resourceSets'][0]['resources'][0]['address']['postalCode'])\n",
    "            except KeyError:\n",
    "                self.postcodes.append(None)\n",
    "            self.latitudes.append(r.json()['resourceSets'][0]['resources'][0]['geocodePoints'][0]['coordinates'][0])\n",
    "            self.longitudes.append(r.json()['resourceSets'][0]['resources'][0]['geocodePoints'][0]['coordinates'][1])\n",
    "\n",
    "    def transform_prices(self):\n",
    "        self.prices = [int(price[1:-4].replace(',','')) for price in self.prices]\n",
    "\n",
    "    def make_df(self):\n",
    "        return pd.DataFrame({'id': self.ids, 'price': self.prices, 'address': self.address, \n",
    "                             'postcode': self.postcodes, 'latitude': self.latitudes, 'longitude': self.longitudes})\n",
    "\n",
    "    def zip_property(self):\n",
    "        ''''This method zips up all of the attributes needed to \n",
    "        insert into the property table in the database'''\n",
    "        return list(zip([int(id.replace('prop','')) for id in self.ids], self.address, self.postcodes, [round(lat, 8) for lat in self.latitudes], [round(lon, 8) for lon in self.longitudes]))\n",
    "    \n",
    "    def zip_price(self, date_today):\n",
    "        ''''This method zips up all of the attributes needed to \n",
    "        insert into the price table in the database'''\n",
    "        return [(int(id.replace('prop','')), str(date_today), self.prices[i]) for i, id in enumerate(self.ids)]\n"
   ]
  },
  {
   "cell_type": "code",
   "execution_count": 4,
   "metadata": {},
   "outputs": [],
   "source": [
    "date_today = date.today()\n",
    "url = r'''https://www.rightmove.co.uk/property-to-rent/find.html?locationIdentifier=REGION%5E92829&maxBedrooms=2&minBedrooms=2&propertyTypes=&includeLetAgreed=false&mustHave=&dontShow=&furnishTypes=&keywords='''\n",
    "driver = webdriver.Chrome()\n",
    "driver.get(url)\n",
    "\n",
    "time.sleep(2)\n",
    "accept_cookies_if_asked(driver)\n",
    "\n",
    "data = Data()\n",
    "data.add_page_data(driver)\n",
    "pages_scanned = 1\n",
    "\n",
    "button = driver.find_element(By.XPATH, \"//button[@title='Next page']\")\n",
    "\n",
    "while button.is_enabled():\n",
    "    WebDriverWait(driver, 20).until(EC.element_to_be_clickable(button))\n",
    "    button.click()\n",
    "    accept_cookies_if_asked(driver)\n",
    "    WebDriverWait(driver, 20).until(EC.presence_of_element_located((By.CLASS_NAME, 'propertyCard-anchor')))\n",
    "    data.add_page_data(driver)\n",
    "    pages_scanned += 1\n",
    "    button = driver.find_element(By.XPATH, \"//button[@title='Next page']\")\n",
    "\n",
    "driver.close()\n"
   ]
  },
  {
   "cell_type": "code",
   "execution_count": 5,
   "metadata": {},
   "outputs": [
    {
     "data": {
      "text/plain": [
       "42"
      ]
     },
     "execution_count": 5,
     "metadata": {},
     "output_type": "execute_result"
    }
   ],
   "source": [
    "pages_scanned"
   ]
  },
  {
   "cell_type": "code",
   "execution_count": 6,
   "metadata": {},
   "outputs": [],
   "source": [
    "data.transform_prices()\n",
    "data.transform_location_data()"
   ]
  },
  {
   "cell_type": "code",
   "execution_count": 7,
   "metadata": {},
   "outputs": [],
   "source": [
    "import pyodbc"
   ]
  },
  {
   "cell_type": "code",
   "execution_count": 8,
   "metadata": {},
   "outputs": [],
   "source": [
    "endpoint = credentials.db_endpoint\n",
    "conn = pyodbc.connect('Driver={SQL Server};'\n",
    "                  'Server='+credentials.db_endpoint+';'\n",
    "                  'Database='+credentials.db_database+';'\n",
    "                  'UID='+credentials.db_user+';'\n",
    "                  'PWD='+credentials.db_password+';'\n",
    "                  'Trusted_Connection=no;')\n",
    "\n",
    "# load to property table\n",
    "property_tuples = data.zip_property()\n",
    "cursor = conn.cursor()\n",
    "cursor.executemany('''\n",
    "                    WITH source AS (\n",
    "                    SELECT * FROM (VALUES (?, ?, ?, ?, ?)) s(prop_id, address, postcode, latitude, longitude)\n",
    "                    )\n",
    "                    INSERT INTO dbo.property\n",
    "                    (prop_id, address, postcode, latitude, longitude)\n",
    "                    SELECT source.prop_id, source.address, source.postcode, \n",
    "                    source.latitude, source.longitude \n",
    "                    FROM source\n",
    "                    WHERE NOT EXISTS\n",
    "                    (SELECT 1 FROM dbo.property target\n",
    "                    WHERE target.prop_id = source.prop_id)\n",
    "                   ''', property_tuples)\n",
    "cursor.commit()\n",
    "cursor.close()"
   ]
  },
  {
   "cell_type": "code",
   "execution_count": 22,
   "metadata": {},
   "outputs": [],
   "source": [
    "# load to price table\n",
    "price_tuples = [(int(id.replace('prop','')), str(date_today), data.prices[i]) for i, id in enumerate(data.ids)]#data.zip_price(date_today=date_today)\n",
    "cursor = conn.cursor()\n",
    "cursor.executemany('''\n",
    "                    WITH source AS (\n",
    "                    SELECT * FROM (VALUES (?, ?, ?)) s(prop_id, date, price)\n",
    "                    )\n",
    "                    INSERT INTO dbo.price\n",
    "                    (prop_id, date, price)\n",
    "                    SELECT source.prop_id, source.date, source.price \n",
    "                    FROM source\n",
    "                    WHERE NOT EXISTS\n",
    "                    (SELECT 1 FROM dbo.price target\n",
    "                    WHERE target.prop_id = source.prop_id\n",
    "                    AND target.date = source.date)\n",
    "                   ''', price_tuples)\n",
    "cursor.commit()\n",
    "cursor.close()\n",
    "\n",
    "conn.close()"
   ]
  },
  {
   "cell_type": "markdown",
   "metadata": {},
   "source": []
  }
 ],
 "metadata": {
  "kernelspec": {
   "display_name": "Python 3",
   "language": "python",
   "name": "python3"
  },
  "language_info": {
   "codemirror_mode": {
    "name": "ipython",
    "version": 3
   },
   "file_extension": ".py",
   "mimetype": "text/x-python",
   "name": "python",
   "nbconvert_exporter": "python",
   "pygments_lexer": "ipython3",
   "version": "3.11.0"
  },
  "orig_nbformat": 4
 },
 "nbformat": 4,
 "nbformat_minor": 2
}

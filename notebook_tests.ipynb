{
 "cells": [
  {
   "cell_type": "code",
   "execution_count": 8,
   "metadata": {},
   "outputs": [],
   "source": [
    "from selenium import webdriver\n",
    "from selenium.webdriver.chrome.options import Options\n",
    "from selenium.webdriver.common.by import By\n",
    "from selenium.webdriver.support.ui import WebDriverWait\n",
    "from selenium.webdriver.support import expected_conditions as EC  \n",
    "import pandas as pd\n",
    "import time\n",
    "import requests\n",
    "import credentials\n",
    "from datetime import date, datetime"
   ]
  },
  {
   "cell_type": "code",
   "execution_count": 2,
   "metadata": {},
   "outputs": [],
   "source": [
    "def accept_cookies_if_asked(driver):\n",
    "    try:\n",
    "        driver.find_element(By.ID, \"onetrust-accept-btn-handler\").click()\n",
    "    except:\n",
    "        pass"
   ]
  },
  {
   "cell_type": "code",
   "execution_count": 3,
   "metadata": {},
   "outputs": [],
   "source": [
    "class Data:\n",
    "    def __init__(self):\n",
    "        self.ids = []\n",
    "        self.prices = []\n",
    "        self.address = []\n",
    "        self.postcodes = []\n",
    "        self.latitudes = []\n",
    "        self.longitudes = []\n",
    "\n",
    "    def add_page_data(self, driver):\n",
    "        properties = driver.find_elements(By.CLASS_NAME, \"l-searchResult\")\n",
    "        for property in properties:\n",
    "            self.ids.append(property.find_element(By.CLASS_NAME, \"propertyCard-anchor\").get_attribute('id'))\n",
    "            self.prices.append(property.find_element(By.CLASS_NAME, \"propertyCard-priceValue\").text)\n",
    "            self.address.append(property.find_element(By.CLASS_NAME, \"propertyCard-address\").get_attribute('title'))\n",
    "\n",
    "    def transform_location_data(self):\n",
    "        self.postcodes = []\n",
    "        self.latitudes = []\n",
    "        self.longitudes = []\n",
    "        for addy in self.address:\n",
    "            addy = addy + \", London, UK\"\n",
    "            addy = addy.replace(' ', '%20')\n",
    "            r = requests.get(rf'https://dev.virtualearth.net/REST/v1/Locations?q={addy}&key={credentials.bingmaps_api_key}')\n",
    "            if r.status_code >= 300:\n",
    "                print(r.status_code)\n",
    "                raise Exception(r.reason)\n",
    "            try:\n",
    "                self.postcodes.append(r.json()['resourceSets'][0]['resources'][0]['address']['postalCode'])\n",
    "            except KeyError:\n",
    "                self.postcodes.append(None)\n",
    "            self.latitudes.append(r.json()['resourceSets'][0]['resources'][0]['geocodePoints'][0]['coordinates'][0])\n",
    "            self.longitudes.append(r.json()['resourceSets'][0]['resources'][0]['geocodePoints'][0]['coordinates'][1])\n",
    "\n",
    "    def transform_prices(self):\n",
    "        self.prices = [int(price[1:-4].replace(',','')) for price in self.prices]\n",
    "\n",
    "    def make_df(self):\n",
    "        return pd.DataFrame({'id': self.ids, 'price': self.prices, 'address': self.address, \n",
    "                             'postcode': self.postcodes, 'latitude': self.latitudes, 'longitude': self.longitudes})\n",
    "\n",
    "    def zip_property(self):\n",
    "        ''''This method zips up all of the attributes needed to \n",
    "        insert into the property table in the database'''\n",
    "        return list(zip([int(id.replace('prop','')) for id in self.ids], self.address, self.postcodes, [round(lat, 8) for lat in self.latitudes], [round(lon, 8) for lon in self.longitudes]))\n",
    "    \n",
    "    def zip_price(self, date_today):\n",
    "        ''''This method zips up all of the attributes needed to \n",
    "        insert into the price table in the database'''\n",
    "        return [(int(id.replace('prop','')), str(date_today), self.prices[i]) for i, id in enumerate(self.ids)]\n"
   ]
  },
  {
   "cell_type": "code",
   "execution_count": 4,
   "metadata": {},
   "outputs": [],
   "source": [
    "date_today = date.today()\n",
    "url = r'''https://www.rightmove.co.uk/property-to-rent/find.html?locationIdentifier=REGION%5E92829&maxBedrooms=2&minBedrooms=2&propertyTypes=&includeLetAgreed=false&mustHave=&dontShow=&furnishTypes=&keywords='''\n",
    "driver = webdriver.Chrome()\n",
    "driver.get(url)\n",
    "\n",
    "time.sleep(2)\n",
    "accept_cookies_if_asked(driver)\n",
    "\n",
    "data = Data()\n",
    "data.add_page_data(driver)\n",
    "pages_scanned = 1\n",
    "\n",
    "button = driver.find_element(By.XPATH, \"//button[@title='Next page']\")\n",
    "\n",
    "while button.is_enabled():\n",
    "    WebDriverWait(driver, 20).until(EC.element_to_be_clickable(button))\n",
    "    button.click()\n",
    "    accept_cookies_if_asked(driver)\n",
    "    WebDriverWait(driver, 20).until(EC.presence_of_element_located((By.CLASS_NAME, 'propertyCard-anchor')))\n",
    "    data.add_page_data(driver)\n",
    "    pages_scanned += 1\n",
    "    button = driver.find_element(By.XPATH, \"//button[@title='Next page']\")\n",
    "\n",
    "driver.close()\n"
   ]
  },
  {
   "cell_type": "code",
   "execution_count": 7,
   "metadata": {},
   "outputs": [
    {
     "data": {
      "text/plain": [
       "1050"
      ]
     },
     "execution_count": 7,
     "metadata": {},
     "output_type": "execute_result"
    }
   ],
   "source": [
    "len(data.prices)"
   ]
  },
  {
   "cell_type": "code",
   "execution_count": 3,
   "metadata": {},
   "outputs": [
    {
     "data": {
      "text/plain": [
       "[{'address_components': [{'long_name': 'Kuala Gardens',\n",
       "    'short_name': 'Kuala Gardens',\n",
       "    'types': ['route']},\n",
       "   {'long_name': 'London', 'short_name': 'London', 'types': ['postal_town']},\n",
       "   {'long_name': 'Greater London',\n",
       "    'short_name': 'Greater London',\n",
       "    'types': ['administrative_area_level_2', 'political']},\n",
       "   {'long_name': 'England',\n",
       "    'short_name': 'England',\n",
       "    'types': ['administrative_area_level_1', 'political']},\n",
       "   {'long_name': 'United Kingdom',\n",
       "    'short_name': 'GB',\n",
       "    'types': ['country', 'political']},\n",
       "   {'long_name': 'SW16 3LP',\n",
       "    'short_name': 'SW16 3LP',\n",
       "    'types': ['postal_code']}],\n",
       "  'formatted_address': 'Kuala Gardens, London SW16 3LP, UK',\n",
       "  'geometry': {'bounds': {'northeast': {'lat': 51.41418700000003,\n",
       "     'lng': -0.1203358},\n",
       "    'southwest': {'lat': 51.41365689999996, 'lng': -0.1217817}},\n",
       "   'location': {'lat': 51.413665, 'lng': -0.121013},\n",
       "   'location_type': 'GEOMETRIC_CENTER',\n",
       "   'viewport': {'northeast': {'lat': 51.41527093029149,\n",
       "     'lng': -0.119709769708498},\n",
       "    'southwest': {'lat': 51.4125729697085, 'lng': -0.122407730291502}}},\n",
       "  'place_id': 'EiJLdWFsYSBHYXJkZW5zLCBMb25kb24gU1cxNiAzTFAsIFVLIi4qLAoUChIJdwhkP5QGdkgRCfIGkY23BScSFAoSCaEuQUCUBnZIEd8JSnF7DeZG',\n",
       "  'types': ['route']}]"
      ]
     },
     "execution_count": 3,
     "metadata": {},
     "output_type": "execute_result"
    }
   ],
   "source": [
    "addy = \"Kuala Gardens, London, SW16 3LP\" + \", London, UK\"\n",
    "addy = addy.replace(' ', '%20')\n",
    "r = requests.get(rf'https://maps.googleapis.com/maps/api/geocode/json?address={addy}&key={credentials.googlemaps_api_key}')\n",
    "r.json()['results']"
   ]
  },
  {
   "cell_type": "code",
   "execution_count": 31,
   "metadata": {},
   "outputs": [
    {
     "name": "stdout",
     "output_type": "stream",
     "text": [
      "52.9540223\n",
      "-1.1549892\n"
     ]
    }
   ],
   "source": [
    "r.json()['results'][0]\n",
    "result = r.json()['results']\n",
    "for comp in result[0]['address_components']:\n",
    "    if \"postal_code\" in comp['types'][0]:\n",
    "        print(comp[\"long_name\"])\n",
    "lat = result[0]['geometry']['location']['lat']\n",
    "lng = result[0]['geometry']['location']['lng']\n",
    "print(lat)\n",
    "print(lng)"
   ]
  },
  {
   "cell_type": "code",
   "execution_count": 6,
   "metadata": {},
   "outputs": [],
   "source": [
    "data.transform_prices()\n",
    "data.transform_location_data()"
   ]
  },
  {
   "cell_type": "code",
   "execution_count": 14,
   "metadata": {},
   "outputs": [],
   "source": [
    "import pyodbc"
   ]
  },
  {
   "cell_type": "code",
   "execution_count": 17,
   "metadata": {},
   "outputs": [],
   "source": [
    "def load_data(conn, query, data):\n",
    "    cursor = conn.cursor()\n",
    "    cursor.executemany(query, data)\n",
    "    cursor.commit()\n",
    "    cursor.close()"
   ]
  },
  {
   "cell_type": "code",
   "execution_count": 15,
   "metadata": {},
   "outputs": [],
   "source": [
    "endpoint = credentials.db_endpoint\n",
    "conn = pyodbc.connect('Driver={SQL Server};'\n",
    "                  'Server='+credentials.db_endpoint+';'\n",
    "                  'Database='+credentials.db_database+';'\n",
    "                  'UID='+credentials.db_user+';'\n",
    "                  'PWD='+credentials.db_password+';'\n",
    "                  'Trusted_Connection=no;')"
   ]
  },
  {
   "cell_type": "code",
   "execution_count": null,
   "metadata": {},
   "outputs": [],
   "source": [
    "property_tuples = data.zip_property()\n",
    "property_query = '''\n",
    "                WITH source AS (\n",
    "                SELECT * FROM (VALUES (?, ?, ?, ?, ?)) s(prop_id, address, postcode, latitude, longitude)\n",
    "                )\n",
    "                INSERT INTO dbo.property\n",
    "                (prop_id, address, postcode, latitude, longitude)\n",
    "                SELECT source.prop_id, source.address, source.postcode, \n",
    "                source.latitude, source.longitude \n",
    "                FROM source\n",
    "                WHERE NOT EXISTS\n",
    "                (SELECT 1 FROM dbo.property target\n",
    "                WHERE target.prop_id = source.prop_id)\n",
    "                '''\n",
    "load_data(conn, property_query, property_tuples)\n",
    "\n",
    "price_tuples = data.zip_price(date_today=date_today)\n",
    "price_query = '''\n",
    "                WITH source AS (\n",
    "                SELECT * FROM (VALUES (?, ?, ?)) s(prop_id, date, price)\n",
    "                )\n",
    "                INSERT INTO dbo.price\n",
    "                (prop_id, date, price)\n",
    "                SELECT source.prop_id, source.date, source.price \n",
    "                FROM source\n",
    "                WHERE NOT EXISTS\n",
    "                (SELECT 1 FROM dbo.price target\n",
    "                WHERE target.prop_id = source.prop_id\n",
    "                AND target.date = source.date)\n",
    "                '''\n",
    "\n",
    "load_data(conn, price_query, price_tuples)\n",
    "\n",
    "conn.close()"
   ]
  },
  {
   "cell_type": "code",
   "execution_count": null,
   "metadata": {},
   "outputs": [],
   "source": [
    "def access_url(url):\n",
    "    headers = {\n",
    "        'User-Agent': 'Mozilla'\n",
    "    }\n",
    "    s = requests.Session()\n",
    "    s.headers.update(headers)\n",
    "    r = s.get(url)\n",
    "    if r.status_code >= 300:\n",
    "        print(r.status_code)\n",
    "        raise Exception(r.reason)\n",
    "\n",
    "def get_data_from_csv(url):\n",
    "    return pd.read_csv(url)"
   ]
  },
  {
   "cell_type": "code",
   "execution_count": 257,
   "metadata": {},
   "outputs": [],
   "source": [
    "cursor = conn.cursor()\n",
    "query = '''select MAX(date) from dbo.interest_rates'''\n",
    "cursor.execute(query)\n",
    "results = cursor.fetchall()"
   ]
  },
  {
   "cell_type": "code",
   "execution_count": 258,
   "metadata": {},
   "outputs": [],
   "source": [
    "previous_date = datetime.strptime(results[0][0], \"%Y-%m-%d\")\n",
    "prev_month = previous_date.strftime(\"%b\")\n",
    "prev_day = f\"{previous_date.day:02d}\"\n",
    "prev_year = previous_date.year\n",
    "curr_month = date_today.strftime(\"%b\")\n",
    "curr_day = f\"{date_today.day:02d}\"\n",
    "curr_year = date_today.year\n",
    "\n",
    "url = rf\"https://www.bankofengland.co.uk/boeapps/iadb/fromshowcolumns.asp?csv.x=yes&Datefrom={prev_day}%2F{prev_month}%2F{prev_year}&Dateto={curr_day}%2F{curr_month}%2F{curr_year}&SeriesCodes=IUMSOIA&CSVF=TN&UsingCodes=Y&VPD=Y&VFD=N\"\n",
    "access_url(url)\n",
    "get_data_from_csv(url)\n",
    "interest_rates = get_data_from_csv(url)"
   ]
  },
  {
   "cell_type": "code",
   "execution_count": 259,
   "metadata": {},
   "outputs": [
    {
     "data": {
      "text/html": [
       "<div>\n",
       "<style scoped>\n",
       "    .dataframe tbody tr th:only-of-type {\n",
       "        vertical-align: middle;\n",
       "    }\n",
       "\n",
       "    .dataframe tbody tr th {\n",
       "        vertical-align: top;\n",
       "    }\n",
       "\n",
       "    .dataframe thead th {\n",
       "        text-align: right;\n",
       "    }\n",
       "</style>\n",
       "<table border=\"1\" class=\"dataframe\">\n",
       "  <thead>\n",
       "    <tr style=\"text-align: right;\">\n",
       "      <th></th>\n",
       "      <th>DATE</th>\n",
       "      <th>IUMSOIA</th>\n",
       "    </tr>\n",
       "  </thead>\n",
       "  <tbody>\n",
       "    <tr>\n",
       "      <th>0</th>\n",
       "      <td>30 Jun 2023</td>\n",
       "      <td>4.9286</td>\n",
       "    </tr>\n",
       "  </tbody>\n",
       "</table>\n",
       "</div>"
      ],
      "text/plain": [
       "          DATE  IUMSOIA\n",
       "0  30 Jun 2023   4.9286"
      ]
     },
     "execution_count": 259,
     "metadata": {},
     "output_type": "execute_result"
    }
   ],
   "source": [
    "interest_rates"
   ]
  },
  {
   "cell_type": "code",
   "execution_count": 123,
   "metadata": {},
   "outputs": [],
   "source": [
    "interest_rate_tuples = list(zip(interest_rates.DATE, interest_rates.IUMSOIA))\n",
    "interest_rate_query = '''\n",
    "                        WITH source AS (\n",
    "                        SELECT * FROM (VALUES (?, ?)) s(date, rate)\n",
    "                        )\n",
    "                        INSERT INTO dbo.interest_rates\n",
    "                        (date, IUMSOIA)\n",
    "                        SELECT source.date, source.rate\n",
    "                        FROM source\n",
    "                        WHERE NOT EXISTS\n",
    "                        (SELECT 1 FROM dbo.interest_rates target\n",
    "                        WHERE target.date = source.date\n",
    "                        )\n",
    "                        '''\n",
    "load_data(conn, interest_rate_query, interest_rate_tuples)"
   ]
  },
  {
   "cell_type": "code",
   "execution_count": 18,
   "metadata": {},
   "outputs": [],
   "source": [
    "import yfinance as yf\n",
    "\n",
    "ticker = yf.Ticker(\"SPY\")\n",
    "sp500 = ticker.history(period=\"5d\")\n",
    "sp500_now = sp500[sp500.index == max(sp500.index)]\n",
    "\n",
    "SPY_tuple = [(date_time.strftime(\"%Y-%m-%d\"), close) for (date_time, close) in zip(sp500_now.index.date, round(sp500_now['Close'], 5))]\n",
    "\n",
    "SPY_query = '''\n",
    "            WITH source AS (\n",
    "            SELECT * FROM (VALUES (?, ?)) s(date, [close])\n",
    "            )\n",
    "            INSERT INTO dbo.SPY_price\n",
    "            (date, [close])\n",
    "            SELECT source.date, source.[close]\n",
    "            FROM source\n",
    "            WHERE NOT EXISTS\n",
    "            (SELECT 1 FROM dbo.SPY_price target\n",
    "            WHERE target.date = source.date\n",
    "            )\n",
    "            '''\n",
    "load_data(conn, SPY_query, SPY_tuple)"
   ]
  },
  {
   "cell_type": "code",
   "execution_count": 8,
   "metadata": {},
   "outputs": [],
   "source": [
    "endpoint = credentials.db_endpoint\n",
    "conn = pyodbc.connect('Driver={SQL Server};'\n",
    "                  'Server='+credentials.db_endpoint+';'\n",
    "                  'Database='+credentials.db_database+';'\n",
    "                  'UID='+credentials.db_user+';'\n",
    "                  'PWD='+credentials.db_password+';'\n",
    "                  'Trusted_Connection=no;')\n",
    "\n",
    "# load to property table\n",
    "property_tuples = data.zip_property()\n",
    "cursor = conn.cursor()\n",
    "cursor.executemany('''\n",
    "                    WITH source AS (\n",
    "                    SELECT * FROM (VALUES (?, ?, ?, ?, ?)) s(prop_id, address, postcode, latitude, longitude)\n",
    "                    )\n",
    "                    INSERT INTO dbo.property\n",
    "                    (prop_id, address, postcode, latitude, longitude)\n",
    "                    SELECT source.prop_id, source.address, source.postcode, \n",
    "                    source.latitude, source.longitude \n",
    "                    FROM source\n",
    "                    WHERE NOT EXISTS\n",
    "                    (SELECT 1 FROM dbo.property target\n",
    "                    WHERE target.prop_id = source.prop_id)\n",
    "                   ''', property_tuples)\n",
    "cursor.commit()\n",
    "cursor.close()"
   ]
  },
  {
   "cell_type": "code",
   "execution_count": 22,
   "metadata": {},
   "outputs": [],
   "source": [
    "# load to price table\n",
    "price_tuples = data.zip_price(date_today=date_today)\n",
    "cursor = conn.cursor()\n",
    "cursor.executemany('''\n",
    "                    WITH source AS (\n",
    "                    SELECT * FROM (VALUES (?, ?, ?)) s(prop_id, date, price)\n",
    "                    )\n",
    "                    INSERT INTO dbo.price\n",
    "                    (prop_id, date, price)\n",
    "                    SELECT source.prop_id, source.date, source.price \n",
    "                    FROM source\n",
    "                    WHERE NOT EXISTS\n",
    "                    (SELECT 1 FROM dbo.price target\n",
    "                    WHERE target.prop_id = source.prop_id\n",
    "                    AND target.date = source.date)\n",
    "                   ''', price_tuples)\n",
    "cursor.commit()\n",
    "cursor.close()\n",
    "\n",
    "conn.close()"
   ]
  },
  {
   "cell_type": "code",
   "execution_count": 120,
   "metadata": {},
   "outputs": [
    {
     "data": {
      "text/plain": [
       "[('31 Jul 2022', 1.1909),\n",
       " ('31 Aug 2022', 1.6896),\n",
       " ('30 Sep 2022', 2.1901),\n",
       " ('31 Oct 2022', 2.1838),\n",
       " ('30 Nov 2022', 2.9273),\n",
       " ('31 Dec 2022', 3.4282),\n",
       " ('31 Jan 2023', 3.4269),\n",
       " ('28 Feb 2023', 3.927),\n",
       " ('31 Mar 2023', 4.1777),\n",
       " ('30 Apr 2023', 4.1792),\n",
       " ('31 May 2023', 4.4278),\n",
       " ('30 Jun 2023', 4.9286)]"
      ]
     },
     "execution_count": 120,
     "metadata": {},
     "output_type": "execute_result"
    }
   ],
   "source": [
    "list(zip(interest_rates.DATE, interest_rates.IUMSOIA))"
   ]
  }
 ],
 "metadata": {
  "kernelspec": {
   "display_name": "Python 3",
   "language": "python",
   "name": "python3"
  },
  "language_info": {
   "codemirror_mode": {
    "name": "ipython",
    "version": 3
   },
   "file_extension": ".py",
   "mimetype": "text/x-python",
   "name": "python",
   "nbconvert_exporter": "python",
   "pygments_lexer": "ipython3",
   "version": "3.11.0"
  },
  "orig_nbformat": 4
 },
 "nbformat": 4,
 "nbformat_minor": 2
}
